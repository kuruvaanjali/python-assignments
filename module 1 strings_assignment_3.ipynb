{
  "nbformat": 4,
  "nbformat_minor": 0,
  "metadata": {
    "colab": {
      "provenance": []
    },
    "kernelspec": {
      "name": "python3",
      "display_name": "Python 3"
    },
    "language_info": {
      "name": "python"
    }
  },
  "cells": [
    {
      "cell_type": "markdown",
      "source": [
        "1.Write a Python program to count the number of vowels in a string.\n",
        "\n",
        "input : hasdfgeuionhjl"
      ],
      "metadata": {
        "id": "q8RkYTES1QUW"
      }
    },
    {
      "cell_type": "code",
      "source": [
        "# write your code here\n",
        "string = \"hasdfgeuionhjl\"\n",
        "vowels = \"aeiou\"\n",
        "vowel_count = sum(1 for char in string if char in vowels)\n",
        "print(f\"Number of vowels: {vowel_count}\")\n"
      ],
      "metadata": {
        "id": "UHi6ezjV1X0s",
        "colab": {
          "base_uri": "https://localhost:8080/"
        },
        "outputId": "a1b372d4-79af-4649-f0b1-f52816a8ddd0"
      },
      "execution_count": 1,
      "outputs": [
        {
          "output_type": "stream",
          "name": "stdout",
          "text": [
            "Number of vowels: 5\n"
          ]
        }
      ]
    },
    {
      "cell_type": "markdown",
      "source": [
        "2.Write a Python program to count the occurrences of each word in a sentence.\n",
        "\n",
        "input : hi hello hi and and hi more and more programming"
      ],
      "metadata": {
        "id": "v7GBEK161QWy"
      }
    },
    {
      "cell_type": "code",
      "source": [
        "# write your code here\n",
        "sentence = \"hi hello hi and and hi more and more programming\"\n",
        "word_list = sentence.split()\n",
        "word_count = {word: word_list.count(word) for word in set(word_list)}\n",
        "print(word_count)\n"
      ],
      "metadata": {
        "id": "R-UzDybK1uZo",
        "colab": {
          "base_uri": "https://localhost:8080/"
        },
        "outputId": "50b9499e-84ad-4805-b33c-987de44b8e01"
      },
      "execution_count": 2,
      "outputs": [
        {
          "output_type": "stream",
          "name": "stdout",
          "text": [
            "{'hi': 3, 'hello': 1, 'programming': 1, 'and': 3, 'more': 2}\n"
          ]
        }
      ]
    },
    {
      "cell_type": "markdown",
      "source": [
        "3.In python how can you differentiate strings and lists. Give atleast 5 different comparisons between them."
      ],
      "metadata": {
        "id": "evCcw-0H1QY9"
      }
    },
    {
      "cell_type": "markdown",
      "source": [
        "Answer:\n",
        "String\n",
        "Mutability : Strings are immutable.\n",
        "Data Type :\tStores only characters.\n",
        "Iteration : Iterates character by character.\n",
        "Operations : Supports string-specific methods like .upper(), .split().\n",
        "Indexing : \tIndexed as a sequence of characters.\n",
        "List\n",
        "Mutability : Lists are mutable.\n",
        "Data Type :\tStores multiple data types.\n",
        "Iteration :\tIterates element by element.\n",
        "Operations : Has list-specific methods like .append(), .extend().\n",
        "Indexing : Indexed as a sequence of elements."
      ],
      "metadata": {
        "id": "OfiTI0pv1QbU"
      }
    },
    {
      "cell_type": "markdown",
      "source": [
        "4.Write a string for your own of approximately 40 in length and perform any 5 different string operations on that."
      ],
      "metadata": {
        "id": "riR1PWxG1Qdq"
      }
    },
    {
      "cell_type": "code",
      "source": [
        "#Write your code here\n",
        "my_string = \"Learning Python is interesting and fun.\"\n",
        "\n",
        "# 1. Convert to uppercase\n",
        "print(my_string.upper())\n",
        "\n",
        "# 2. Replace a word\n",
        "print(my_string.replace(\"interesting\", \"rewarding\"))\n",
        "\n",
        "# 3. Find the index of a word\n",
        "print(my_string.find(\"Python\"))\n",
        "\n",
        "# 4. Split the string into a list of words\n",
        "print(my_string.split())\n",
        "\n",
        "# 5. Count occurrences of a letter\n",
        "print(my_string.count(\"n\"))\n"
      ],
      "metadata": {
        "id": "3bHyrDS12e8i",
        "colab": {
          "base_uri": "https://localhost:8080/"
        },
        "outputId": "1f655180-f92a-4b84-f92d-3365922cceff"
      },
      "execution_count": 3,
      "outputs": [
        {
          "output_type": "stream",
          "name": "stdout",
          "text": [
            "LEARNING PYTHON IS INTERESTING AND FUN.\n",
            "Learning Python is rewarding and fun.\n",
            "9\n",
            "['Learning', 'Python', 'is', 'interesting', 'and', 'fun.']\n",
            "7\n"
          ]
        }
      ]
    },
    {
      "cell_type": "markdown",
      "source": [
        "5.Explain the concatination in strings with a neat example."
      ],
      "metadata": {
        "id": "bbUm7VVN1Qfu"
      }
    },
    {
      "cell_type": "code",
      "source": [
        "#write your code and explanation here\n",
        "string1 = \"Hello\"\n",
        "string2 = \"World\"\n",
        "result = string1 + \" \" + string2\n",
        "print(result)\n"
      ],
      "metadata": {
        "id": "y9292Q452tF0",
        "colab": {
          "base_uri": "https://localhost:8080/"
        },
        "outputId": "6376ee16-277f-4e39-e022-493e1b63c00c"
      },
      "execution_count": 4,
      "outputs": [
        {
          "output_type": "stream",
          "name": "stdout",
          "text": [
            "Hello World\n"
          ]
        }
      ]
    },
    {
      "cell_type": "code",
      "source": [],
      "metadata": {
        "id": "vnMNtJgq2xuG"
      },
      "execution_count": null,
      "outputs": []
    }
  ]
}