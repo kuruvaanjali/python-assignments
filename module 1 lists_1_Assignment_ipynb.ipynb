{
  "nbformat": 4,
  "nbformat_minor": 0,
  "metadata": {
    "colab": {
      "provenance": []
    },
    "kernelspec": {
      "name": "python3",
      "display_name": "Python 3"
    },
    "language_info": {
      "name": "python"
    }
  },
  "cells": [
    {
      "cell_type": "markdown",
      "source": [
        "1.Are lists mutable or immutable, explain with an example"
      ],
      "metadata": {
        "id": "Mxypr15V3U7e"
      }
    },
    {
      "cell_type": "code",
      "source": [
        "\n",
        "# Example of mutability\n",
        "my_list = [1, 2, 3]\n",
        "print(\"Original list:\", my_list)\n",
        "\n",
        "# Modifying the list\n",
        "my_list[1] = 20\n",
        "print(\"List after modification:\", my_list)\n",
        "\n",
        "# Adding an element\n",
        "my_list.append(4)\n",
        "print(\"List after appending an element:\", my_list)\n",
        "\n",
        "# Removing an element\n",
        "my_list.remove(20)\n",
        "print(\"List after removing an element:\", my_list)\n"
      ],
      "metadata": {
        "id": "c_aTKXsT3p0P",
        "colab": {
          "base_uri": "https://localhost:8080/"
        },
        "outputId": "f5e91046-9a67-4953-f538-f03843c59c75"
      },
      "execution_count": 4,
      "outputs": [
        {
          "output_type": "stream",
          "name": "stdout",
          "text": [
            "Original list: [1, 2, 3]\n",
            "List after modification: [1, 20, 3]\n",
            "List after appending an element: [1, 20, 3, 4]\n",
            "List after removing an element: [1, 3, 4]\n"
          ]
        }
      ]
    },
    {
      "cell_type": "markdown",
      "source": [],
      "metadata": {
        "id": "Jd2G4J_c3tm7"
      }
    },
    {
      "cell_type": "markdown",
      "source": [
        "2.Take any example of list on your own and perform atleast 5 list operations on that"
      ],
      "metadata": {
        "id": "uPYH4kpZ3U97"
      }
    },
    {
      "cell_type": "code",
      "source": [
        "#write your code here\n",
        "# Example list\n",
        "example_list = [10, 20, 30, 40, 50]\n",
        "\n",
        "# 1. Append an element\n",
        "example_list.append(60)\n",
        "print(\"After append:\", example_list)\n",
        "\n",
        "# 2. Insert an element at a specific position\n",
        "example_list.insert(2, 25)\n",
        "print(\"After insert:\", example_list)\n",
        "\n",
        "# 3. Remove an element by value\n",
        "example_list.remove(40)\n",
        "print(\"After remove:\", example_list)\n",
        "\n",
        "# 4. Reverse the list\n",
        "example_list.reverse()\n",
        "print(\"After reverse:\", example_list)\n",
        "\n",
        "# 5. Sort the list\n",
        "example_list.sort()\n",
        "print(\"After sort:\", example_list)\n"
      ],
      "metadata": {
        "id": "vSxe0pwG36ME",
        "colab": {
          "base_uri": "https://localhost:8080/"
        },
        "outputId": "abef3bd2-f436-4802-8342-a6c865e013fa"
      },
      "execution_count": 5,
      "outputs": [
        {
          "output_type": "stream",
          "name": "stdout",
          "text": [
            "After append: [10, 20, 30, 40, 50, 60]\n",
            "After insert: [10, 20, 25, 30, 40, 50, 60]\n",
            "After remove: [10, 20, 25, 30, 50, 60]\n",
            "After reverse: [60, 50, 30, 25, 20, 10]\n",
            "After sort: [10, 20, 25, 30, 50, 60]\n"
          ]
        }
      ]
    },
    {
      "cell_type": "markdown",
      "source": [
        "3.Create a new list containing only the even numbers from the original list.\n",
        "\n",
        "original list ;[1,2,2,4,5,6,7,12,3,456,78,67,89,90]"
      ],
      "metadata": {
        "id": "1aSo9eEU3VAT"
      }
    },
    {
      "cell_type": "code",
      "source": [
        "#write your code here\n",
        "# Original list\n",
        "original_list = [1, 2, 2, 4, 5, 6, 7, 12, 3, 456, 78, 67, 89, 90]\n",
        "\n",
        "# Filtering even numbers\n",
        "even_numbers = [num for num in original_list if num % 2 == 0]\n",
        "print(\"List of even numbers:\", even_numbers)\n"
      ],
      "metadata": {
        "id": "e-_3vMX54Upe",
        "colab": {
          "base_uri": "https://localhost:8080/"
        },
        "outputId": "3e176849-66f4-4b2c-b685-1cb70d926219"
      },
      "execution_count": 6,
      "outputs": [
        {
          "output_type": "stream",
          "name": "stdout",
          "text": [
            "List of even numbers: [2, 2, 4, 6, 12, 456, 78, 90]\n"
          ]
        }
      ]
    },
    {
      "cell_type": "markdown",
      "source": [
        "4.Create a new list with the squares of each element in the original list.\n",
        "\n",
        "original list : [3,5,6,8,2,45]"
      ],
      "metadata": {
        "id": "y1b95q7k3VCz"
      }
    },
    {
      "cell_type": "code",
      "source": [
        "#write your code here\n",
        "# Original list\n",
        "original_list = [3, 5, 6, 8, 2, 45]\n",
        "\n",
        "# Creating a list with squares\n",
        "squared_list = [num ** 2 for num in original_list]\n",
        "print(\"List of squares:\", squared_list)\n"
      ],
      "metadata": {
        "id": "97M5xax24jM4",
        "colab": {
          "base_uri": "https://localhost:8080/"
        },
        "outputId": "a318bc17-f075-4ffa-917d-55752b0430d9"
      },
      "execution_count": 7,
      "outputs": [
        {
          "output_type": "stream",
          "name": "stdout",
          "text": [
            "List of squares: [9, 25, 36, 64, 4, 2025]\n"
          ]
        }
      ]
    },
    {
      "cell_type": "markdown",
      "source": [
        "5.Check if all elements in the list are positive and return all the positive elements in a new list.\n",
        "\n",
        "input ; [12,23,4,56,77,-89,7,90,90,-87,-99]"
      ],
      "metadata": {
        "id": "pzrQ5WBZ3VFQ"
      }
    },
    {
      "cell_type": "code",
      "source": [
        "# write your code here\n",
        "# Input list\n",
        "input_list = [12, 23, 4, 56, 77, -89, 7, 90, 90, -87, -99]\n",
        "\n",
        "# Checking positivity\n",
        "all_positive = all(num > 0 for num in input_list)\n",
        "positive_elements = [num for num in input_list if num > 0]\n",
        "\n",
        "print(\"Are all elements positive?\", all_positive)\n",
        "print(\"List of positive elements:\", positive_elements)\n"
      ],
      "metadata": {
        "id": "8x0148io5FcT",
        "colab": {
          "base_uri": "https://localhost:8080/"
        },
        "outputId": "b8fefa9c-ba0c-48f5-dfba-e0c67806a16f"
      },
      "execution_count": 8,
      "outputs": [
        {
          "output_type": "stream",
          "name": "stdout",
          "text": [
            "Are all elements positive? False\n",
            "List of positive elements: [12, 23, 4, 56, 77, 7, 90, 90]\n"
          ]
        }
      ]
    }
  ]
}